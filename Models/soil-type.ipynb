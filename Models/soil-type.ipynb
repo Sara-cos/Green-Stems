{
 "cells": [
  {
   "cell_type": "code",
   "execution_count": 1,
   "id": "engaged-elizabeth",
   "metadata": {
    "_cell_guid": "b1076dfc-b9ad-4769-8c92-a6c4dae69d19",
    "_uuid": "8f2839f25d086af736a60e9eeb907d3b93b6e0e5",
    "execution": {
     "iopub.execute_input": "2021-06-20T06:02:03.837949Z",
     "iopub.status.busy": "2021-06-20T06:02:03.837496Z",
     "iopub.status.idle": "2021-06-20T06:02:03.892767Z",
     "shell.execute_reply": "2021-06-20T06:02:03.892004Z",
     "shell.execute_reply.started": "2021-06-20T05:52:22.005444Z"
    },
    "papermill": {
     "duration": 0.071352,
     "end_time": "2021-06-20T06:02:03.892926",
     "exception": false,
     "start_time": "2021-06-20T06:02:03.821574",
     "status": "completed"
    },
    "tags": []
   },
   "outputs": [
    {
     "name": "stdout",
     "output_type": "stream",
     "text": [
      "/kaggle/input/soil-types/Soil types/Yellow Soil/20.jpg\n",
      "/kaggle/input/soil-types/Soil types/Yellow Soil/6.jpg\n",
      "/kaggle/input/soil-types/Soil types/Yellow Soil/5.jpg\n",
      "/kaggle/input/soil-types/Soil types/Yellow Soil/8.jpg\n",
      "/kaggle/input/soil-types/Soil types/Yellow Soil/30.jpg\n",
      "/kaggle/input/soil-types/Soil types/Yellow Soil/10.jpg\n",
      "/kaggle/input/soil-types/Soil types/Yellow Soil/9.jpg\n",
      "/kaggle/input/soil-types/Soil types/Yellow Soil/29.jpg\n",
      "/kaggle/input/soil-types/Soil types/Yellow Soil/16.jpg\n",
      "/kaggle/input/soil-types/Soil types/Yellow Soil/23.jpg\n",
      "/kaggle/input/soil-types/Soil types/Yellow Soil/7.jpg\n",
      "/kaggle/input/soil-types/Soil types/Yellow Soil/28.jpg\n",
      "/kaggle/input/soil-types/Soil types/Yellow Soil/22.jpg\n",
      "/kaggle/input/soil-types/Soil types/Yellow Soil/24.jpg\n",
      "/kaggle/input/soil-types/Soil types/Yellow Soil/13.jpg\n",
      "/kaggle/input/soil-types/Soil types/Yellow Soil/17.jpg\n",
      "/kaggle/input/soil-types/Soil types/Yellow Soil/26.jpg\n",
      "/kaggle/input/soil-types/Soil types/Yellow Soil/15.jpg\n",
      "/kaggle/input/soil-types/Soil types/Yellow Soil/12.jpg\n",
      "/kaggle/input/soil-types/Soil types/Yellow Soil/11.jpg\n",
      "/kaggle/input/soil-types/Soil types/Yellow Soil/27.jpg\n",
      "/kaggle/input/soil-types/Soil types/Yellow Soil/21.jpg\n",
      "/kaggle/input/soil-types/Soil types/Yellow Soil/4.jpg\n",
      "/kaggle/input/soil-types/Soil types/Yellow Soil/3.jpg\n",
      "/kaggle/input/soil-types/Soil types/Yellow Soil/19.jpg\n",
      "/kaggle/input/soil-types/Soil types/Yellow Soil/14.jpg\n",
      "/kaggle/input/soil-types/Soil types/Yellow Soil/18.jpg\n",
      "/kaggle/input/soil-types/Soil types/Yellow Soil/2.jpg\n",
      "/kaggle/input/soil-types/Soil types/Yellow Soil/25.jpg\n",
      "/kaggle/input/soil-types/Soil types/Laterite Soil/20.jpg\n",
      "/kaggle/input/soil-types/Soil types/Laterite Soil/6.jpg\n",
      "/kaggle/input/soil-types/Soil types/Laterite Soil/5.jpg\n",
      "/kaggle/input/soil-types/Soil types/Laterite Soil/8.jpg\n",
      "/kaggle/input/soil-types/Soil types/Laterite Soil/30.jpg\n",
      "/kaggle/input/soil-types/Soil types/Laterite Soil/10.jpg\n",
      "/kaggle/input/soil-types/Soil types/Laterite Soil/9.jpg\n",
      "/kaggle/input/soil-types/Soil types/Laterite Soil/1.jpg\n",
      "/kaggle/input/soil-types/Soil types/Laterite Soil/29.jpg\n",
      "/kaggle/input/soil-types/Soil types/Laterite Soil/16.jpg\n",
      "/kaggle/input/soil-types/Soil types/Laterite Soil/23.jpg\n",
      "/kaggle/input/soil-types/Soil types/Laterite Soil/7.jpg\n",
      "/kaggle/input/soil-types/Soil types/Laterite Soil/28.jpg\n",
      "/kaggle/input/soil-types/Soil types/Laterite Soil/22.jpg\n",
      "/kaggle/input/soil-types/Soil types/Laterite Soil/24.jpg\n",
      "/kaggle/input/soil-types/Soil types/Laterite Soil/13.jpg\n",
      "/kaggle/input/soil-types/Soil types/Laterite Soil/17.jpg\n",
      "/kaggle/input/soil-types/Soil types/Laterite Soil/26.jpg\n",
      "/kaggle/input/soil-types/Soil types/Laterite Soil/15.jpg\n",
      "/kaggle/input/soil-types/Soil types/Laterite Soil/12.jpg\n",
      "/kaggle/input/soil-types/Soil types/Laterite Soil/11.jpg\n",
      "/kaggle/input/soil-types/Soil types/Laterite Soil/27.jpg\n",
      "/kaggle/input/soil-types/Soil types/Laterite Soil/21.jpg\n",
      "/kaggle/input/soil-types/Soil types/Laterite Soil/4.jpg\n",
      "/kaggle/input/soil-types/Soil types/Laterite Soil/3.jpg\n",
      "/kaggle/input/soil-types/Soil types/Laterite Soil/19.jpg\n",
      "/kaggle/input/soil-types/Soil types/Laterite Soil/14.jpg\n",
      "/kaggle/input/soil-types/Soil types/Laterite Soil/18.jpg\n",
      "/kaggle/input/soil-types/Soil types/Laterite Soil/2.jpg\n",
      "/kaggle/input/soil-types/Soil types/Laterite Soil/25.jpg\n",
      "/kaggle/input/soil-types/Soil types/Black Soil/20.jpg\n",
      "/kaggle/input/soil-types/Soil types/Black Soil/6.jpg\n",
      "/kaggle/input/soil-types/Soil types/Black Soil/5.jpg\n",
      "/kaggle/input/soil-types/Soil types/Black Soil/8.jpg\n",
      "/kaggle/input/soil-types/Soil types/Black Soil/30.jpg\n",
      "/kaggle/input/soil-types/Soil types/Black Soil/38.jpg\n",
      "/kaggle/input/soil-types/Soil types/Black Soil/10.jpg\n",
      "/kaggle/input/soil-types/Soil types/Black Soil/35.jpg\n",
      "/kaggle/input/soil-types/Soil types/Black Soil/9.jpg\n",
      "/kaggle/input/soil-types/Soil types/Black Soil/37.jpg\n",
      "/kaggle/input/soil-types/Soil types/Black Soil/29.jpg\n",
      "/kaggle/input/soil-types/Soil types/Black Soil/16.jpg\n",
      "/kaggle/input/soil-types/Soil types/Black Soil/23.jpg\n",
      "/kaggle/input/soil-types/Soil types/Black Soil/7.jpg\n",
      "/kaggle/input/soil-types/Soil types/Black Soil/28.jpg\n",
      "/kaggle/input/soil-types/Soil types/Black Soil/22.jpg\n",
      "/kaggle/input/soil-types/Soil types/Black Soil/40.jpg\n",
      "/kaggle/input/soil-types/Soil types/Black Soil/24.jpg\n",
      "/kaggle/input/soil-types/Soil types/Black Soil/31.jpg\n",
      "/kaggle/input/soil-types/Soil types/Black Soil/13.jpg\n",
      "/kaggle/input/soil-types/Soil types/Black Soil/32.jpg\n",
      "/kaggle/input/soil-types/Soil types/Black Soil/17.jpg\n",
      "/kaggle/input/soil-types/Soil types/Black Soil/26.jpg\n",
      "/kaggle/input/soil-types/Soil types/Black Soil/39.jpg\n",
      "/kaggle/input/soil-types/Soil types/Black Soil/15.jpg\n",
      "/kaggle/input/soil-types/Soil types/Black Soil/12.jpg\n",
      "/kaggle/input/soil-types/Soil types/Black Soil/11.jpg\n",
      "/kaggle/input/soil-types/Soil types/Black Soil/27.jpg\n",
      "/kaggle/input/soil-types/Soil types/Black Soil/21.jpg\n",
      "/kaggle/input/soil-types/Soil types/Black Soil/4.jpg\n",
      "/kaggle/input/soil-types/Soil types/Black Soil/3.jpg\n",
      "/kaggle/input/soil-types/Soil types/Black Soil/36.jpg\n",
      "/kaggle/input/soil-types/Soil types/Black Soil/19.jpg\n",
      "/kaggle/input/soil-types/Soil types/Black Soil/14.jpg\n",
      "/kaggle/input/soil-types/Soil types/Black Soil/18.jpg\n",
      "/kaggle/input/soil-types/Soil types/Black Soil/2.jpg\n",
      "/kaggle/input/soil-types/Soil types/Black Soil/25.jpg\n",
      "/kaggle/input/soil-types/Soil types/Peat Soil/20.jpg\n",
      "/kaggle/input/soil-types/Soil types/Peat Soil/6.jpg\n",
      "/kaggle/input/soil-types/Soil types/Peat Soil/5.jpg\n",
      "/kaggle/input/soil-types/Soil types/Peat Soil/8.jpg\n",
      "/kaggle/input/soil-types/Soil types/Peat Soil/30.jpg\n",
      "/kaggle/input/soil-types/Soil types/Peat Soil/10.jpg\n",
      "/kaggle/input/soil-types/Soil types/Peat Soil/9.jpg\n",
      "/kaggle/input/soil-types/Soil types/Peat Soil/1.jpg\n",
      "/kaggle/input/soil-types/Soil types/Peat Soil/29.jpg\n",
      "/kaggle/input/soil-types/Soil types/Peat Soil/16.jpg\n",
      "/kaggle/input/soil-types/Soil types/Peat Soil/23.jpg\n",
      "/kaggle/input/soil-types/Soil types/Peat Soil/7.jpg\n",
      "/kaggle/input/soil-types/Soil types/Peat Soil/28.jpg\n",
      "/kaggle/input/soil-types/Soil types/Peat Soil/22.jpg\n",
      "/kaggle/input/soil-types/Soil types/Peat Soil/24.jpg\n",
      "/kaggle/input/soil-types/Soil types/Peat Soil/13.jpg\n",
      "/kaggle/input/soil-types/Soil types/Peat Soil/17.jpg\n",
      "/kaggle/input/soil-types/Soil types/Peat Soil/26.jpg\n",
      "/kaggle/input/soil-types/Soil types/Peat Soil/15.jpg\n",
      "/kaggle/input/soil-types/Soil types/Peat Soil/12.jpg\n",
      "/kaggle/input/soil-types/Soil types/Peat Soil/11.jpg\n",
      "/kaggle/input/soil-types/Soil types/Peat Soil/27.jpg\n",
      "/kaggle/input/soil-types/Soil types/Peat Soil/21.jpg\n",
      "/kaggle/input/soil-types/Soil types/Peat Soil/4.jpg\n",
      "/kaggle/input/soil-types/Soil types/Peat Soil/3.jpg\n",
      "/kaggle/input/soil-types/Soil types/Peat Soil/19.jpg\n",
      "/kaggle/input/soil-types/Soil types/Peat Soil/14.jpg\n",
      "/kaggle/input/soil-types/Soil types/Peat Soil/18.jpg\n",
      "/kaggle/input/soil-types/Soil types/Peat Soil/2.jpg\n",
      "/kaggle/input/soil-types/Soil types/Peat Soil/25.jpg\n",
      "/kaggle/input/soil-types/Soil types/Cinder Soil/20.jpg\n",
      "/kaggle/input/soil-types/Soil types/Cinder Soil/6.jpg\n",
      "/kaggle/input/soil-types/Soil types/Cinder Soil/5.jpg\n",
      "/kaggle/input/soil-types/Soil types/Cinder Soil/8.jpg\n",
      "/kaggle/input/soil-types/Soil types/Cinder Soil/30.jpg\n",
      "/kaggle/input/soil-types/Soil types/Cinder Soil/10.jpg\n",
      "/kaggle/input/soil-types/Soil types/Cinder Soil/9.jpg\n",
      "/kaggle/input/soil-types/Soil types/Cinder Soil/1.jpg\n",
      "/kaggle/input/soil-types/Soil types/Cinder Soil/29.jpg\n",
      "/kaggle/input/soil-types/Soil types/Cinder Soil/16.jpg\n",
      "/kaggle/input/soil-types/Soil types/Cinder Soil/23.jpg\n",
      "/kaggle/input/soil-types/Soil types/Cinder Soil/7.jpg\n",
      "/kaggle/input/soil-types/Soil types/Cinder Soil/28.jpg\n",
      "/kaggle/input/soil-types/Soil types/Cinder Soil/22.jpg\n",
      "/kaggle/input/soil-types/Soil types/Cinder Soil/24.jpg\n",
      "/kaggle/input/soil-types/Soil types/Cinder Soil/13.jpg\n",
      "/kaggle/input/soil-types/Soil types/Cinder Soil/17.jpg\n",
      "/kaggle/input/soil-types/Soil types/Cinder Soil/26.jpg\n",
      "/kaggle/input/soil-types/Soil types/Cinder Soil/15.jpg\n",
      "/kaggle/input/soil-types/Soil types/Cinder Soil/12.jpg\n",
      "/kaggle/input/soil-types/Soil types/Cinder Soil/11.jpg\n",
      "/kaggle/input/soil-types/Soil types/Cinder Soil/27.jpg\n",
      "/kaggle/input/soil-types/Soil types/Cinder Soil/21.jpg\n",
      "/kaggle/input/soil-types/Soil types/Cinder Soil/4.jpg\n",
      "/kaggle/input/soil-types/Soil types/Cinder Soil/3.jpg\n",
      "/kaggle/input/soil-types/Soil types/Cinder Soil/19.jpg\n",
      "/kaggle/input/soil-types/Soil types/Cinder Soil/14.jpg\n",
      "/kaggle/input/soil-types/Soil types/Cinder Soil/18.jpg\n",
      "/kaggle/input/soil-types/Soil types/Cinder Soil/2.jpg\n",
      "/kaggle/input/soil-types/Soil types/Cinder Soil/25.jpg\n"
     ]
    }
   ],
   "source": [
    "# This Python 3 environment comes with many helpful analytics libraries installed\n",
    "# It is defined by the kaggle/python Docker image: https://github.com/kaggle/docker-python\n",
    "# For example, here's several helpful packages to load\n",
    "\n",
    "import numpy as np # linear algebra\n",
    "import pandas as pd # data processing, CSV file I/O (e.g. pd.read_csv)\n",
    "\n",
    "# Input data files are available in the read-only \"../input/\" directory\n",
    "# For example, running this (by clicking run or pressing Shift+Enter) will list all files under the input directory\n",
    "\n",
    "import os\n",
    "for dirname, _, filenames in os.walk('/kaggle/input'):\n",
    "    for filename in filenames:\n",
    "        print(os.path.join(dirname, filename))\n",
    "\n",
    "# You can write up to 20GB to the current directory (/kaggle/working/) that gets preserved as output when you create a version using \"Save & Run All\" \n",
    "# You can also write temporary files to /kaggle/temp/, but they won't be saved outside of the current session"
   ]
  },
  {
   "cell_type": "code",
   "execution_count": 2,
   "id": "prescribed-saint",
   "metadata": {
    "execution": {
     "iopub.execute_input": "2021-06-20T06:02:03.926032Z",
     "iopub.status.busy": "2021-06-20T06:02:03.925488Z",
     "iopub.status.idle": "2021-06-20T06:02:10.199010Z",
     "shell.execute_reply": "2021-06-20T06:02:10.198575Z",
     "shell.execute_reply.started": "2021-06-20T05:54:14.683930Z"
    },
    "papermill": {
     "duration": 6.291263,
     "end_time": "2021-06-20T06:02:10.199125",
     "exception": false,
     "start_time": "2021-06-20T06:02:03.907862",
     "status": "completed"
    },
    "tags": []
   },
   "outputs": [],
   "source": [
    "import tensorflow as tf\n",
    "from tensorflow import keras"
   ]
  },
  {
   "cell_type": "code",
   "execution_count": 3,
   "id": "racial-battery",
   "metadata": {
    "execution": {
     "iopub.execute_input": "2021-06-20T06:02:10.224508Z",
     "iopub.status.busy": "2021-06-20T06:02:10.223850Z",
     "iopub.status.idle": "2021-06-20T06:02:10.226948Z",
     "shell.execute_reply": "2021-06-20T06:02:10.226338Z",
     "shell.execute_reply.started": "2021-06-20T05:54:31.901285Z"
    },
    "papermill": {
     "duration": 0.017885,
     "end_time": "2021-06-20T06:02:10.227080",
     "exception": false,
     "start_time": "2021-06-20T06:02:10.209195",
     "status": "completed"
    },
    "tags": []
   },
   "outputs": [],
   "source": [
    "image_size = 220\n",
    "batch_size = 20\n",
    "\n",
    "\n",
    "target_size = (image_size, image_size)\n",
    "input_shape = (image_size, image_size, 3)\n",
    "\n",
    "# epochs = 20"
   ]
  },
  {
   "cell_type": "code",
   "execution_count": 4,
   "id": "binary-length",
   "metadata": {
    "execution": {
     "iopub.execute_input": "2021-06-20T06:02:10.259651Z",
     "iopub.status.busy": "2021-06-20T06:02:10.259028Z",
     "iopub.status.idle": "2021-06-20T06:02:10.369271Z",
     "shell.execute_reply": "2021-06-20T06:02:10.368742Z",
     "shell.execute_reply.started": "2021-06-20T05:57:18.245429Z"
    },
    "papermill": {
     "duration": 0.127551,
     "end_time": "2021-06-20T06:02:10.369405",
     "exception": false,
     "start_time": "2021-06-20T06:02:10.241854",
     "status": "completed"
    },
    "tags": []
   },
   "outputs": [
    {
     "name": "stdout",
     "output_type": "stream",
     "text": [
      "Found 156 images belonging to 5 classes.\n"
     ]
    }
   ],
   "source": [
    "from tensorflow.keras.preprocessing.image import ImageDataGenerator\n",
    "\n",
    "train_datagen = ImageDataGenerator(rescale=1/255)\n",
    "\n",
    "\n",
    "train_generator = train_datagen.flow_from_directory(\n",
    "        '../input/soil-types/Soil types/', \n",
    "        target_size=(200, 200),\n",
    "        batch_size = batch_size,\n",
    "        \n",
    "        classes = ['Peat Soil','Cinder Soil', 'Black Soil', 'Laterite Soil', 'Yellow Soil'],\n",
    "       \n",
    "        class_mode='categorical')"
   ]
  },
  {
   "cell_type": "code",
   "execution_count": 5,
   "id": "perceived-tomato",
   "metadata": {
    "execution": {
     "iopub.execute_input": "2021-06-20T06:02:10.403086Z",
     "iopub.status.busy": "2021-06-20T06:02:10.402231Z",
     "iopub.status.idle": "2021-06-20T06:02:10.581975Z",
     "shell.execute_reply": "2021-06-20T06:02:10.581380Z",
     "shell.execute_reply.started": "2021-06-20T05:57:45.360726Z"
    },
    "papermill": {
     "duration": 0.197726,
     "end_time": "2021-06-20T06:02:10.582109",
     "exception": false,
     "start_time": "2021-06-20T06:02:10.384383",
     "status": "completed"
    },
    "tags": []
   },
   "outputs": [],
   "source": [
    "model = tf.keras.models.Sequential([\n",
    "    # Note the input shape is the desired size of the image 200x 200 with 3 bytes color\n",
    "    # The first convolution\n",
    "    tf.keras.layers.Conv2D(16, (3,3), activation='relu', input_shape=(200, 200, 3)),\n",
    "    tf.keras.layers.MaxPooling2D(2, 2),\n",
    "    # The second convolution\n",
    "    tf.keras.layers.Conv2D(32, (3,3), activation='relu'),\n",
    "    tf.keras.layers.MaxPooling2D(2,2),\n",
    "    # The third convolution\n",
    "    tf.keras.layers.Conv2D(64, (3,3), activation='relu'),\n",
    "    tf.keras.layers.MaxPooling2D(2,2),\n",
    "    # The fourth convolution\n",
    "    tf.keras.layers.Conv2D(64, (3,3), activation='relu'),\n",
    "    tf.keras.layers.MaxPooling2D(2,2),\n",
    "    # The fifth convolution\n",
    "    tf.keras.layers.Conv2D(64, (3,3), activation='relu'),\n",
    "    tf.keras.layers.MaxPooling2D(2,2),\n",
    "    # Flatten the results to feed into a dense layer\n",
    "    tf.keras.layers.Flatten(),\n",
    "    # 128 neuron in the fully-connected layer\n",
    "    tf.keras.layers.Dense(128, activation='relu'),\n",
    "    # 5 output neurons for 5 classes with the softmax activation\n",
    "    tf.keras.layers.Dense(5, activation='softmax')\n",
    "])"
   ]
  },
  {
   "cell_type": "code",
   "execution_count": 6,
   "id": "elegant-favor",
   "metadata": {
    "execution": {
     "iopub.execute_input": "2021-06-20T06:02:10.617304Z",
     "iopub.status.busy": "2021-06-20T06:02:10.616676Z",
     "iopub.status.idle": "2021-06-20T06:02:10.624019Z",
     "shell.execute_reply": "2021-06-20T06:02:10.623244Z",
     "shell.execute_reply.started": "2021-06-20T05:57:55.831069Z"
    },
    "papermill": {
     "duration": 0.027196,
     "end_time": "2021-06-20T06:02:10.624175",
     "exception": false,
     "start_time": "2021-06-20T06:02:10.596979",
     "status": "completed"
    },
    "tags": []
   },
   "outputs": [
    {
     "name": "stdout",
     "output_type": "stream",
     "text": [
      "Model: \"sequential\"\n",
      "_________________________________________________________________\n",
      "Layer (type)                 Output Shape              Param #   \n",
      "=================================================================\n",
      "conv2d (Conv2D)              (None, 198, 198, 16)      448       \n",
      "_________________________________________________________________\n",
      "max_pooling2d (MaxPooling2D) (None, 99, 99, 16)        0         \n",
      "_________________________________________________________________\n",
      "conv2d_1 (Conv2D)            (None, 97, 97, 32)        4640      \n",
      "_________________________________________________________________\n",
      "max_pooling2d_1 (MaxPooling2 (None, 48, 48, 32)        0         \n",
      "_________________________________________________________________\n",
      "conv2d_2 (Conv2D)            (None, 46, 46, 64)        18496     \n",
      "_________________________________________________________________\n",
      "max_pooling2d_2 (MaxPooling2 (None, 23, 23, 64)        0         \n",
      "_________________________________________________________________\n",
      "conv2d_3 (Conv2D)            (None, 21, 21, 64)        36928     \n",
      "_________________________________________________________________\n",
      "max_pooling2d_3 (MaxPooling2 (None, 10, 10, 64)        0         \n",
      "_________________________________________________________________\n",
      "conv2d_4 (Conv2D)            (None, 8, 8, 64)          36928     \n",
      "_________________________________________________________________\n",
      "max_pooling2d_4 (MaxPooling2 (None, 4, 4, 64)          0         \n",
      "_________________________________________________________________\n",
      "flatten (Flatten)            (None, 1024)              0         \n",
      "_________________________________________________________________\n",
      "dense (Dense)                (None, 128)               131200    \n",
      "_________________________________________________________________\n",
      "dense_1 (Dense)              (None, 5)                 645       \n",
      "=================================================================\n",
      "Total params: 229,285\n",
      "Trainable params: 229,285\n",
      "Non-trainable params: 0\n",
      "_________________________________________________________________\n"
     ]
    }
   ],
   "source": [
    "model.summary()"
   ]
  },
  {
   "cell_type": "code",
   "execution_count": 7,
   "id": "angry-township",
   "metadata": {
    "execution": {
     "iopub.execute_input": "2021-06-20T06:02:10.664477Z",
     "iopub.status.busy": "2021-06-20T06:02:10.663075Z",
     "iopub.status.idle": "2021-06-20T06:02:10.670216Z",
     "shell.execute_reply": "2021-06-20T06:02:10.669574Z",
     "shell.execute_reply.started": "2021-06-20T05:58:04.435498Z"
    },
    "papermill": {
     "duration": 0.030605,
     "end_time": "2021-06-20T06:02:10.670346",
     "exception": false,
     "start_time": "2021-06-20T06:02:10.639741",
     "status": "completed"
    },
    "tags": []
   },
   "outputs": [],
   "source": [
    "from tensorflow.keras.optimizers import RMSprop\n",
    "\n",
    "model.compile(loss='categorical_crossentropy',\n",
    "              optimizer=RMSprop(learning_rate=0.001),\n",
    "              metrics=['acc'])"
   ]
  },
  {
   "cell_type": "code",
   "execution_count": 8,
   "id": "verbal-ethiopia",
   "metadata": {
    "execution": {
     "iopub.execute_input": "2021-06-20T06:02:10.705776Z",
     "iopub.status.busy": "2021-06-20T06:02:10.705006Z",
     "iopub.status.idle": "2021-06-20T06:02:10.707913Z",
     "shell.execute_reply": "2021-06-20T06:02:10.707289Z",
     "shell.execute_reply.started": "2021-06-20T05:58:12.802731Z"
    },
    "papermill": {
     "duration": 0.022398,
     "end_time": "2021-06-20T06:02:10.708036",
     "exception": false,
     "start_time": "2021-06-20T06:02:10.685638",
     "status": "completed"
    },
    "tags": []
   },
   "outputs": [],
   "source": [
    "total_sample=train_generator.n"
   ]
  },
  {
   "cell_type": "code",
   "execution_count": 9,
   "id": "played-ordinary",
   "metadata": {
    "execution": {
     "iopub.execute_input": "2021-06-20T06:02:10.741471Z",
     "iopub.status.busy": "2021-06-20T06:02:10.741039Z",
     "iopub.status.idle": "2021-06-20T06:02:10.743823Z",
     "shell.execute_reply": "2021-06-20T06:02:10.743352Z",
     "shell.execute_reply.started": "2021-06-20T05:58:22.739353Z"
    },
    "papermill": {
     "duration": 0.020805,
     "end_time": "2021-06-20T06:02:10.743918",
     "exception": false,
     "start_time": "2021-06-20T06:02:10.723113",
     "status": "completed"
    },
    "tags": []
   },
   "outputs": [],
   "source": [
    "n_epochs = 3"
   ]
  },
  {
   "cell_type": "code",
   "execution_count": 10,
   "id": "thirty-serum",
   "metadata": {
    "execution": {
     "iopub.execute_input": "2021-06-20T06:02:10.768648Z",
     "iopub.status.busy": "2021-06-20T06:02:10.768187Z",
     "iopub.status.idle": "2021-06-20T06:02:19.990257Z",
     "shell.execute_reply": "2021-06-20T06:02:19.990800Z",
     "shell.execute_reply.started": "2021-06-20T05:58:30.075782Z"
    },
    "papermill": {
     "duration": 9.236306,
     "end_time": "2021-06-20T06:02:19.990982",
     "exception": false,
     "start_time": "2021-06-20T06:02:10.754676",
     "status": "completed"
    },
    "tags": []
   },
   "outputs": [
    {
     "name": "stdout",
     "output_type": "stream",
     "text": [
      "Epoch 1/3\n",
      "7/7 [==============================] - 4s 363ms/step - loss: 1.6496 - acc: 0.1729\n",
      "Epoch 2/3\n",
      "7/7 [==============================] - 3s 355ms/step - loss: 1.5593 - acc: 0.3317\n",
      "Epoch 3/3\n",
      "7/7 [==============================] - 3s 359ms/step - loss: 1.3981 - acc: 0.3618\n"
     ]
    }
   ],
   "source": [
    "history = model.fit(\n",
    "        train_generator, \n",
    "        steps_per_epoch=int(total_sample/batch_size),  \n",
    "        epochs=n_epochs,\n",
    "        verbose=1)"
   ]
  },
  {
   "cell_type": "code",
   "execution_count": 11,
   "id": "color-shoulder",
   "metadata": {
    "execution": {
     "iopub.execute_input": "2021-06-20T06:02:20.050842Z",
     "iopub.status.busy": "2021-06-20T06:02:20.049449Z",
     "iopub.status.idle": "2021-06-20T06:02:21.993398Z",
     "shell.execute_reply": "2021-06-20T06:02:21.990644Z",
     "shell.execute_reply.started": "2021-06-20T05:59:19.280841Z"
    },
    "papermill": {
     "duration": 1.976968,
     "end_time": "2021-06-20T06:02:21.993567",
     "exception": false,
     "start_time": "2021-06-20T06:02:20.016599",
     "status": "completed"
    },
    "tags": []
   },
   "outputs": [],
   "source": [
    "model.save(filepath=\"save_model/\")"
   ]
  },
  {
   "cell_type": "code",
   "execution_count": 12,
   "id": "competent-reading",
   "metadata": {
    "execution": {
     "iopub.execute_input": "2021-06-20T06:02:22.059754Z",
     "iopub.status.busy": "2021-06-20T06:02:22.059071Z",
     "iopub.status.idle": "2021-06-20T06:02:23.147184Z",
     "shell.execute_reply": "2021-06-20T06:02:23.146503Z",
     "shell.execute_reply.started": "2021-06-20T05:59:35.734244Z"
    },
    "papermill": {
     "duration": 1.128369,
     "end_time": "2021-06-20T06:02:23.147321",
     "exception": false,
     "start_time": "2021-06-20T06:02:22.018952",
     "status": "completed"
    },
    "tags": []
   },
   "outputs": [
    {
     "data": {
      "text/plain": [
       "921292"
      ]
     },
     "execution_count": 12,
     "metadata": {},
     "output_type": "execute_result"
    }
   ],
   "source": [
    "converter = tf.lite.TFLiteConverter.from_saved_model('save_model')\n",
    "tflite_model = converter.convert()\n",
    "open(\"converted_model.tflite\", \"wb\").write(tflite_model)"
   ]
  },
  {
   "cell_type": "code",
   "execution_count": null,
   "id": "quality-demographic",
   "metadata": {
    "papermill": {
     "duration": 0.025272,
     "end_time": "2021-06-20T06:02:23.198881",
     "exception": false,
     "start_time": "2021-06-20T06:02:23.173609",
     "status": "completed"
    },
    "tags": []
   },
   "outputs": [],
   "source": []
  }
 ],
 "metadata": {
  "kernelspec": {
   "display_name": "Python 3",
   "language": "python",
   "name": "python3"
  },
  "language_info": {
   "codemirror_mode": {
    "name": "ipython",
    "version": 3
   },
   "file_extension": ".py",
   "mimetype": "text/x-python",
   "name": "python",
   "nbconvert_exporter": "python",
   "pygments_lexer": "ipython3",
   "version": "3.7.9"
  },
  "papermill": {
   "default_parameters": {},
   "duration": 27.497406,
   "end_time": "2021-06-20T06:02:24.636882",
   "environment_variables": {},
   "exception": null,
   "input_path": "__notebook__.ipynb",
   "output_path": "__notebook__.ipynb",
   "parameters": {},
   "start_time": "2021-06-20T06:01:57.139476",
   "version": "2.3.2"
  }
 },
 "nbformat": 4,
 "nbformat_minor": 5
}
